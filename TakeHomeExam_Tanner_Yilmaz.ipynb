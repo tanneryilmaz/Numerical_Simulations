{
 "cells": [
  {
   "cell_type": "markdown",
   "metadata": {},
   "source": [
    "# Take home exam\n",
    "\n",
    "We have implemented the following class modeling a 2D point "
   ]
  },
  {
   "cell_type": "code",
   "execution_count": 4,
   "metadata": {},
   "outputs": [],
   "source": [
    "class Point(object):\n",
    "    def __init__(self, x = 0., y = 0.):\n",
    "        self.x = float(x)\n",
    "        self.y = float(y)\n",
    "        \n",
    "    def __repr__(self):\n",
    "        return \"({}, {})\".format(self.x, self.y)"
   ]
  },
  {
   "cell_type": "markdown",
   "metadata": {},
   "source": [
    "Using this code implement, the class for a rectangle on the plane. The rectangle should be specified by 4 points -- the vertices of the rectangle. In the constructor of the class for the rectangle, you must check whether given four points specify a valid rectangle. Recall that adjoint sides of a rectangle must be perpendicular. "
   ]
  },
  {
   "cell_type": "code",
   "execution_count": 42,
   "metadata": {},
   "outputs": [],
   "source": [
    "class Rectangle():\n",
    "    \n",
    "    def __init__(self, p1, p2, p3, p4):\n",
    "        \n",
    "        if not (isinstance(p1, Point) and isinstance(p2, Point) and isinstance(p3, Point) and isinstance(p4, Point)):\n",
    "            raise ValueError(\"All arguments must be points\")\n",
    "            \n",
    "        if not self.isRectangle(p1, p2, p3, p4):\n",
    "            raise Exception(\"The points you have provided do not form a rectangle\")   \n",
    "        \n",
    "        self.p1 = p1\n",
    "        self.p2 = p2\n",
    "        self.p3 = p3\n",
    "        self.p4 = p4\n",
    "    \n",
    "    def isRectangle(self, p1, p2, p3, p4):\n",
    "        \"\"\"\n",
    "        Determines if points given as parameters form a rectangle. Remember, a square is a rectangle.\n",
    "        \"\"\"\n",
    "        center_x = (p1.x + p2.x + p3.x + p4.x) / 4.\n",
    "        center_y = (p1.y + p2.y + p3.y + p4.y) / 4.\n",
    "\n",
    "        center = Point(center_x, center_y)\n",
    "\n",
    "        return (self.distance(p1, center) == self.distance(p2, center) == \\\n",
    "                self.distance(p3, center) == self.distance(p4, center))\n",
    "    \n",
    "    def distance(self, p1, p2):\n",
    "        \"\"\"\n",
    "        Determines the distance between two points\n",
    "        \"\"\"\n",
    "        return ((p1.x - p2.x)**2 + (p1.y - p2.y)**2)**0.5"
   ]
  },
  {
   "cell_type": "code",
   "execution_count": 43,
   "metadata": {},
   "outputs": [],
   "source": [
    "p1 = Point(0, 0) #These four points form a rectangle\n",
    "p2 = Point(0, 1)\n",
    "p3 = Point(1, 1)\n",
    "p4 = Point(1, 0)\n",
    "\n",
    "p9 = Point(-1, 3) # This rectangle is rotated and the code works fine\n",
    "p10 = Point(0, 4)\n",
    "p11 = Point(1, 1)\n",
    "p12 = Point(2,2)\n",
    "\n",
    "p13 = Point(.5, -.5) # This rectangle is rotated and the code works fine\n",
    "p14 = Point(2.5, 1.5)\n",
    "p15 = Point(4.5, -.5)\n",
    "p16 = Point(2.5, -2.5)\n",
    "\n",
    "p5 = Point(0,0) #These four points do not form a rectangle\n",
    "p6 = Point(0,1)\n",
    "p7 = Point(1, 1)\n",
    "p8 = Point(1.1, 0)"
   ]
  },
  {
   "cell_type": "code",
   "execution_count": 50,
   "metadata": {},
   "outputs": [],
   "source": [
    "r1 = Rectangle(p1, p2, p3, p4)"
   ]
  },
  {
   "cell_type": "code",
   "execution_count": 51,
   "metadata": {},
   "outputs": [
    {
     "data": {
      "text/plain": [
       "((0.0, 0.0), (0.0, 1.0), (1.0, 1.0), (1.0, 0.0))"
      ]
     },
     "execution_count": 51,
     "metadata": {},
     "output_type": "execute_result"
    }
   ],
   "source": [
    "r1.p1, r1.p2, r1.p3, r1.p4"
   ]
  },
  {
   "cell_type": "code",
   "execution_count": 52,
   "metadata": {},
   "outputs": [],
   "source": [
    "r2 = Rectangle(p9, p10, p11, p12)"
   ]
  },
  {
   "cell_type": "code",
   "execution_count": 53,
   "metadata": {},
   "outputs": [],
   "source": [
    "r3 = Rectangle(p13, p14, p15, p16)"
   ]
  },
  {
   "cell_type": "code",
   "execution_count": 54,
   "metadata": {},
   "outputs": [
    {
     "ename": "Exception",
     "evalue": "The points you have provided do not form a rectangle",
     "output_type": "error",
     "traceback": [
      "\u001b[1;31m---------------------------------------------------------------------------\u001b[0m",
      "\u001b[1;31mException\u001b[0m                                 Traceback (most recent call last)",
      "\u001b[1;32m<ipython-input-54-b0f929800021>\u001b[0m in \u001b[0;36m<module>\u001b[1;34m\u001b[0m\n\u001b[1;32m----> 1\u001b[1;33m \u001b[0mr4\u001b[0m \u001b[1;33m=\u001b[0m \u001b[0mRectangle\u001b[0m\u001b[1;33m(\u001b[0m\u001b[0mp5\u001b[0m\u001b[1;33m,\u001b[0m \u001b[0mp6\u001b[0m\u001b[1;33m,\u001b[0m \u001b[0mp7\u001b[0m\u001b[1;33m,\u001b[0m \u001b[0mp8\u001b[0m\u001b[1;33m)\u001b[0m\u001b[1;33m\u001b[0m\u001b[1;33m\u001b[0m\u001b[0m\n\u001b[0m",
      "\u001b[1;32m<ipython-input-42-5503411c1be5>\u001b[0m in \u001b[0;36m__init__\u001b[1;34m(self, p1, p2, p3, p4)\u001b[0m\n\u001b[0;32m      7\u001b[0m \u001b[1;33m\u001b[0m\u001b[0m\n\u001b[0;32m      8\u001b[0m         \u001b[1;32mif\u001b[0m \u001b[1;32mnot\u001b[0m \u001b[0mself\u001b[0m\u001b[1;33m.\u001b[0m\u001b[0misRectangle\u001b[0m\u001b[1;33m(\u001b[0m\u001b[0mp1\u001b[0m\u001b[1;33m,\u001b[0m \u001b[0mp2\u001b[0m\u001b[1;33m,\u001b[0m \u001b[0mp3\u001b[0m\u001b[1;33m,\u001b[0m \u001b[0mp4\u001b[0m\u001b[1;33m)\u001b[0m\u001b[1;33m:\u001b[0m\u001b[1;33m\u001b[0m\u001b[1;33m\u001b[0m\u001b[0m\n\u001b[1;32m----> 9\u001b[1;33m             \u001b[1;32mraise\u001b[0m \u001b[0mException\u001b[0m\u001b[1;33m(\u001b[0m\u001b[1;34m\"The points you have provided do not form a rectangle\"\u001b[0m\u001b[1;33m)\u001b[0m\u001b[1;33m\u001b[0m\u001b[1;33m\u001b[0m\u001b[0m\n\u001b[0m\u001b[0;32m     10\u001b[0m \u001b[1;33m\u001b[0m\u001b[0m\n\u001b[0;32m     11\u001b[0m         \u001b[0mself\u001b[0m\u001b[1;33m.\u001b[0m\u001b[0mp1\u001b[0m \u001b[1;33m=\u001b[0m \u001b[0mp1\u001b[0m\u001b[1;33m\u001b[0m\u001b[1;33m\u001b[0m\u001b[0m\n",
      "\u001b[1;31mException\u001b[0m: The points you have provided do not form a rectangle"
     ]
    }
   ],
   "source": [
    "r4 = Rectangle(p5, p6, p7, p8)"
   ]
  },
  {
   "cell_type": "code",
   "execution_count": null,
   "metadata": {},
   "outputs": [],
   "source": []
  }
 ],
 "metadata": {
  "kernelspec": {
   "display_name": "Python 3",
   "language": "python",
   "name": "python3"
  },
  "language_info": {
   "codemirror_mode": {
    "name": "ipython",
    "version": 3
   },
   "file_extension": ".py",
   "mimetype": "text/x-python",
   "name": "python",
   "nbconvert_exporter": "python",
   "pygments_lexer": "ipython3",
   "version": "3.7.1"
  }
 },
 "nbformat": 4,
 "nbformat_minor": 2
}
