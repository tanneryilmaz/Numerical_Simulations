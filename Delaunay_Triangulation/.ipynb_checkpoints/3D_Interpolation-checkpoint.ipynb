{
 "cells": [
  {
   "cell_type": "code",
   "execution_count": 23,
   "metadata": {},
   "outputs": [],
   "source": [
    "import numpy as np\n",
    "import matplotlib.pyplot as plt\n",
    "from scipy.interpolate import LinearNDInterpolator as interpolate\n",
    "from scipy.spatial import Delaunay\n",
    "from mpl_toolkits.mplot3d import Axes3D\n",
    "import DelaunayPlotter3D # only works for plotting 3D delaunay triangulations"
   ]
  },
  {
   "cell_type": "code",
   "execution_count": 39,
   "metadata": {},
   "outputs": [],
   "source": [
    "x_amplitude = 50\n",
    "y_amplitude = 50\n",
    "z_amplitude = 5\n",
    "dimension_amplitudes = np.array([x_amplitude, y_amplitude, z_amplitude])\n",
    "num_points = 100"
   ]
  },
  {
   "cell_type": "code",
   "execution_count": 40,
   "metadata": {},
   "outputs": [],
   "source": [
    "def generate_rand_points(amplitudes, num_points):\n",
    "    \n",
    "    points = np.random.rand(num_points, len(amplitudes))\n",
    "    \n",
    "    #this loop scales each dimension \n",
    "    for i in range(len(amplitudes)):\n",
    "        points[:, i] *= dimension_amplitudes[i]\n",
    "    \n",
    "    return points     \n",
    "\n",
    "points = generate_rand_points(dimension_amplitudes, num_points) # the number of dimensions is infered by the length of the amplitude array"
   ]
  }
 ],
 "metadata": {
  "kernelspec": {
   "display_name": "Python 3",
   "language": "python",
   "name": "python3"
  },
  "language_info": {
   "codemirror_mode": {
    "name": "ipython",
    "version": 3
   },
   "file_extension": ".py",
   "mimetype": "text/x-python",
   "name": "python",
   "nbconvert_exporter": "python",
   "pygments_lexer": "ipython3",
   "version": "3.7.1"
  }
 },
 "nbformat": 4,
 "nbformat_minor": 2
}
