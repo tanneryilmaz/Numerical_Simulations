{
 "cells": [
  {
   "cell_type": "code",
   "execution_count": 95,
   "metadata": {},
   "outputs": [],
   "source": [
    "# Worker and Manager classes are subclasses of Employee class because both workers and managers have two shared attributes:\n",
    "# name, and employee_ID.\n",
    "\n",
    "class Employee:\n",
    "    \n",
    "    instance_count = 0 # This stores the number of objects that have been created and is used to generate employee_ID\n",
    "        \n",
    "    def __init__(self, name):\n",
    "        self.name = name\n",
    "        Employee.instance_count = Employee.instance_count + 1\n",
    "        self.employee_ID = Employee.instance_count     \n",
    "\n",
    "class Worker(Employee):\n",
    "        \n",
    "    def __init__(self, name):\n",
    "        super().__init__(name) # Calling superclass constructor to initialize name and employee\n",
    "        self.tasks = [] # In order to allow for more than one class to be assigned to a worker, I use a list to store a \n",
    "                        # worker's tasks.\n",
    "        self.manager = None\n",
    "        \n",
    "    def __repr__(self):\n",
    "        return self.name \n",
    "        \n",
    "class Manager(Employee):\n",
    "    \n",
    "    def __init__(self, name, project_title):\n",
    "        \n",
    "        super().__init__(name)\n",
    "        \n",
    "        if not (isinstance(project_title, str)): # Making sure the title of the project is a string \n",
    "            raise ValueError(\"Project title must be a string.\")\n",
    "        \n",
    "        self.project_title = project_title        \n",
    "        self.team = [] \n",
    "            \n",
    "    def add_to_team(self, worker):\n",
    "        \n",
    "        if not isinstance(worker, Worker):\n",
    "            raise ValueError(\"You can only add workers to a manager's team.\")    \n",
    "        \n",
    "        self.team.append(worker)\n",
    "        worker.manager = self.name \n",
    "        \n",
    "    def assign_task(self, employee, task): \n",
    "            if not (employee in self.team and isinstance(task, str)): # Making sure that the manager is assigning a task to \n",
    "                                                                      # to an employee on their team.\n",
    "                raise Exception(\"A manager can only assign tasks to employees on their team. Tasks must be passed as a \\\n",
    "                                 a string\")\n",
    "            employee.tasks.append(task)\n",
    "           \n",
    "    def __repr__(self):\n",
    "        return \"Manager name: \" + self.name + \". \" + \"Team members: \" + ' '.join(self.team.__repr__())        "
   ]
  },
  {
   "cell_type": "code",
   "execution_count": 96,
   "metadata": {},
   "outputs": [],
   "source": [
    "w1 = Worker(\"Bob\")\n",
    "w2 = Worker(\"Jake\")"
   ]
  },
  {
   "cell_type": "code",
   "execution_count": 97,
   "metadata": {},
   "outputs": [
    {
     "data": {
      "text/plain": [
       "2"
      ]
     },
     "execution_count": 97,
     "metadata": {},
     "output_type": "execute_result"
    }
   ],
   "source": [
    "Employee.instance_count"
   ]
  },
  {
   "cell_type": "code",
   "execution_count": 98,
   "metadata": {},
   "outputs": [
    {
     "data": {
      "text/plain": [
       "(1, 2)"
      ]
     },
     "execution_count": 98,
     "metadata": {},
     "output_type": "execute_result"
    }
   ],
   "source": [
    "w1.employee_ID, w2.employee_ID"
   ]
  },
  {
   "cell_type": "code",
   "execution_count": 99,
   "metadata": {},
   "outputs": [],
   "source": [
    "m1 = Manager(\"Tina\", \"Build Bridge\")"
   ]
  },
  {
   "cell_type": "code",
   "execution_count": 100,
   "metadata": {},
   "outputs": [
    {
     "data": {
      "text/plain": [
       "'Build Bridge'"
      ]
     },
     "execution_count": 100,
     "metadata": {},
     "output_type": "execute_result"
    }
   ],
   "source": [
    "m1.project_title"
   ]
  },
  {
   "cell_type": "code",
   "execution_count": 101,
   "metadata": {},
   "outputs": [],
   "source": [
    "m1.add_to_team(w1)\n",
    "m1.add_to_team(w2)"
   ]
  },
  {
   "cell_type": "code",
   "execution_count": 102,
   "metadata": {},
   "outputs": [
    {
     "data": {
      "text/plain": [
       "'Manager name: Tina. Team members: [ B o b ,   J a k e ]'"
      ]
     },
     "execution_count": 102,
     "metadata": {},
     "output_type": "execute_result"
    }
   ],
   "source": [
    "m1.__repr__()"
   ]
  },
  {
   "cell_type": "code",
   "execution_count": 103,
   "metadata": {},
   "outputs": [],
   "source": [
    "w3 = Worker(\"Joe\")\n",
    "w4 = Worker(\"Sarah\")"
   ]
  },
  {
   "cell_type": "code",
   "execution_count": 104,
   "metadata": {},
   "outputs": [],
   "source": [
    "m2 = Manager(\"Sandra\", \"Build a Car\")"
   ]
  },
  {
   "cell_type": "code",
   "execution_count": 105,
   "metadata": {},
   "outputs": [
    {
     "name": "stdout",
     "output_type": "stream",
     "text": [
      "None\n"
     ]
    }
   ],
   "source": [
    "print(w3.manager)"
   ]
  },
  {
   "cell_type": "code",
   "execution_count": 106,
   "metadata": {},
   "outputs": [],
   "source": [
    "m2.add_to_team(w3)\n",
    "m2.add_to_team(w4)"
   ]
  },
  {
   "cell_type": "code",
   "execution_count": 107,
   "metadata": {},
   "outputs": [
    {
     "name": "stdout",
     "output_type": "stream",
     "text": [
      "Sandra\n"
     ]
    }
   ],
   "source": [
    "print(w3.manager)"
   ]
  },
  {
   "cell_type": "code",
   "execution_count": 108,
   "metadata": {},
   "outputs": [
    {
     "data": {
      "text/plain": [
       "[Joe, Sarah]"
      ]
     },
     "execution_count": 108,
     "metadata": {},
     "output_type": "execute_result"
    }
   ],
   "source": [
    "m2.team"
   ]
  },
  {
   "cell_type": "code",
   "execution_count": 109,
   "metadata": {},
   "outputs": [],
   "source": [
    "m2.assign_task(w3, \"Clean the toilets\")\n",
    "m2.assign_task(w3, \"Mop the floors\")"
   ]
  },
  {
   "cell_type": "code",
   "execution_count": 110,
   "metadata": {},
   "outputs": [
    {
     "data": {
      "text/plain": [
       "['Clean the toilets', 'Mop the floors']"
      ]
     },
     "execution_count": 110,
     "metadata": {},
     "output_type": "execute_result"
    }
   ],
   "source": [
    "w3.tasks"
   ]
  },
  {
   "cell_type": "code",
   "execution_count": 111,
   "metadata": {},
   "outputs": [
    {
     "data": {
      "text/plain": [
       "Sarah"
      ]
     },
     "execution_count": 111,
     "metadata": {},
     "output_type": "execute_result"
    }
   ],
   "source": [
    "w4"
   ]
  }
 ],
 "metadata": {
  "kernelspec": {
   "display_name": "Python 3",
   "language": "python",
   "name": "python3"
  },
  "language_info": {
   "codemirror_mode": {
    "name": "ipython",
    "version": 3
   },
   "file_extension": ".py",
   "mimetype": "text/x-python",
   "name": "python",
   "nbconvert_exporter": "python",
   "pygments_lexer": "ipython3",
   "version": "3.7.1"
  }
 },
 "nbformat": 4,
 "nbformat_minor": 2
}
